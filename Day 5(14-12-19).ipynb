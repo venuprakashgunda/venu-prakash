{
 "cells": [
  {
   "cell_type": "code",
   "execution_count": 1,
   "metadata": {},
   "outputs": [
    {
     "data": {
      "text/plain": [
       "3.3333333333333335"
      ]
     },
     "execution_count": 1,
     "metadata": {},
     "output_type": "execute_result"
    }
   ],
   "source": [
    "10/3"
   ]
  },
  {
   "cell_type": "code",
   "execution_count": 2,
   "metadata": {},
   "outputs": [
    {
     "data": {
      "text/plain": [
       "3"
      ]
     },
     "execution_count": 2,
     "metadata": {},
     "output_type": "execute_result"
    }
   ],
   "source": [
    "10//3\n"
   ]
  },
  {
   "cell_type": "code",
   "execution_count": 3,
   "metadata": {},
   "outputs": [
    {
     "data": {
      "text/plain": [
       "32"
      ]
     },
     "execution_count": 3,
     "metadata": {},
     "output_type": "execute_result"
    }
   ],
   "source": [
    "2**5"
   ]
  },
  {
   "cell_type": "code",
   "execution_count": 4,
   "metadata": {},
   "outputs": [
    {
     "data": {
      "text/plain": [
       "10"
      ]
     },
     "execution_count": 4,
     "metadata": {},
     "output_type": "execute_result"
    }
   ],
   "source": [
    "2*5"
   ]
  },
  {
   "cell_type": "code",
   "execution_count": 5,
   "metadata": {},
   "outputs": [
    {
     "data": {
      "text/plain": [
       "True"
      ]
     },
     "execution_count": 5,
     "metadata": {},
     "output_type": "execute_result"
    }
   ],
   "source": [
    "12 < 45 and 13<93"
   ]
  },
  {
   "cell_type": "markdown",
   "metadata": {},
   "source": [
    "# member ship operator\n",
    "- in (return true if chareter is found in your string)\n",
    "- not in \n"
   ]
  },
  {
   "cell_type": "code",
   "execution_count": 7,
   "metadata": {},
   "outputs": [
    {
     "name": "stdout",
     "output_type": "stream",
     "text": [
      "False\n",
      "True\n"
     ]
    }
   ],
   "source": [
    "str = \"abc xyz\"\n",
    "print('w' in str)\n",
    "print('xyz' in str)"
   ]
  },
  {
   "cell_type": "markdown",
   "metadata": {},
   "source": [
    "# identity operators\n",
    "- is\n",
    "- is not"
   ]
  },
  {
   "cell_type": "code",
   "execution_count": 9,
   "metadata": {},
   "outputs": [
    {
     "data": {
      "text/plain": [
       "False"
      ]
     },
     "execution_count": 9,
     "metadata": {},
     "output_type": "execute_result"
    }
   ],
   "source": [
    "#since x and y are pointiong to 2 diff values\n",
    "x = 20\n",
    "y= 30\n",
    "x is y"
   ]
  },
  {
   "cell_type": "code",
   "execution_count": 10,
   "metadata": {},
   "outputs": [
    {
     "name": "stdout",
     "output_type": "stream",
     "text": [
      "140703652492720 140703652492720\n"
     ]
    }
   ],
   "source": [
    "x=20\n",
    "y=20\n",
    "print(id(x),id(y))"
   ]
  },
  {
   "cell_type": "code",
   "execution_count": 12,
   "metadata": {},
   "outputs": [
    {
     "name": "stdout",
     "output_type": "stream",
     "text": [
      "x>y\n"
     ]
    }
   ],
   "source": [
    "#non traditional way of using if-else\n",
    "#no ternanry operator in python the below case is used instead .\n",
    "x=20\n",
    "y=10\n",
    "print(\"x<y\") if x<y else print(\"x>y\")"
   ]
  },
  {
   "cell_type": "code",
   "execution_count": 14,
   "metadata": {},
   "outputs": [
    {
     "name": "stdout",
     "output_type": "stream",
     "text": [
      "x>y\n"
     ]
    }
   ],
   "source": [
    "if x<y:\n",
    "    print(\"x>y\")\n",
    "    if 12<78:\n",
    "        print(\"hello\")\n",
    "        print(\"hi\")\n",
    "    else:\n",
    "        print(\"hai\")\n",
    "else:\n",
    "    print(\"x>y\")"
   ]
  },
  {
   "cell_type": "code",
   "execution_count": 17,
   "metadata": {},
   "outputs": [
    {
     "name": "stdout",
     "output_type": "stream",
     "text": [
      "-30\n",
      "neagtive\n"
     ]
    }
   ],
   "source": [
    "#accept  a no as input and check weather given no is positive or negative\n",
    "a=int(input())\n",
    "if a>0:\n",
    "  print(\"positive\")\n",
    "elif(a<0):\n",
    "    print(\"neagtive\")\n",
    "else:\n",
    "    print(\"zero\")"
   ]
  },
  {
   "cell_type": "code",
   "execution_count": 19,
   "metadata": {},
   "outputs": [
    {
     "name": "stdout",
     "output_type": "stream",
     "text": [
      "6\n",
      "yes\n"
     ]
    }
   ],
   "source": [
    "a=int(input())\n",
    "if(a%2==0)and(a%3==0)and(a%4!=0) :\n",
    " print(\"yes\")\n",
    "else:\n",
    "    print(\"no\")"
   ]
  },
  {
   "cell_type": "code",
   "execution_count": 20,
   "metadata": {},
   "outputs": [
    {
     "ename": "SyntaxError",
     "evalue": "invalid syntax (<ipython-input-20-4da0d475cedc>, line 10)",
     "output_type": "error",
     "traceback": [
      "\u001b[1;36m  File \u001b[1;32m\"<ipython-input-20-4da0d475cedc>\"\u001b[1;36m, line \u001b[1;32m10\u001b[0m\n\u001b[1;33m    if(x<30)\u001b[0m\n\u001b[1;37m            ^\u001b[0m\n\u001b[1;31mSyntaxError\u001b[0m\u001b[1;31m:\u001b[0m invalid syntax\n"
     ]
    }
   ],
   "source": [
    "#accept 3 mars of a student if he gets >30 in all subjs go for finding avg , if he gets <30 in any subj then print fail as \n",
    "#if avg >75 print grae as a \n",
    "#if avg is >65 print as b\n",
    "#if avg is >50 and <65 garde as c\n",
    "#if avg is >30 and <50 graad as d\n",
    "#else fail\n",
    "x = int (input())\n",
    "y = int (input())\n",
    "z = int (input())\n",
    "if(x<30)"
   ]
  },
  {
   "cell_type": "code",
   "execution_count": 21,
   "metadata": {},
   "outputs": [
    {
     "name": "stdout",
     "output_type": "stream",
     "text": [
      "5\n",
      "12345"
     ]
    }
   ],
   "source": [
    "#while loop\n",
    "i=1\n",
    "n = int(input())\n",
    "while i<=n:\n",
    "    print(i,end ='')\n",
    "    i=i+1;"
   ]
  },
  {
   "cell_type": "markdown",
   "metadata": {},
   "source": [
    "sum of natural numbers\n",
    "i=1\n",
    "sum = 0\n",
    "n=int(input())\n",
    "while i<=n:\n",
    " sum = sum+1;\n",
    " i=i+1;\n",
    " print(\"sum\",sum)"
   ]
  },
  {
   "cell_type": "code",
   "execution_count": 29,
   "metadata": {},
   "outputs": [
    {
     "name": "stdout",
     "output_type": "stream",
     "text": [
      "26\n"
     ]
    }
   ],
   "source": [
    "x = \"application1889\"\n",
    "i  = 0\n",
    "sum = 0\n",
    "while i<len(x):\n",
    "    if (ord(x[i])>=48 and ord(x[i])<=57):\n",
    "        sum = sum + int(x[i])\n",
    "    i=i+1\n",
    "print(sum)"
   ]
  },
  {
   "cell_type": "code",
   "execution_count": 32,
   "metadata": {},
   "outputs": [
    {
     "name": "stdout",
     "output_type": "stream",
     "text": [
      "26\n"
     ]
    }
   ],
   "source": [
    "s=0\n",
    "for i in x:\n",
    "    if i.isdigit():\n",
    "        s=s+int(i)\n",
    "print(s)"
   ]
  },
  {
   "cell_type": "code",
   "execution_count": null,
   "metadata": {},
   "outputs": [],
   "source": [
    "#using for loop concept\n",
    "s = \"abcdefghijklmnopqrstuvwxyz\""
   ]
  }
 ],
 "metadata": {
  "kernelspec": {
   "display_name": "Python 3",
   "language": "python",
   "name": "python3"
  },
  "language_info": {
   "codemirror_mode": {
    "name": "ipython",
    "version": 3
   },
   "file_extension": ".py",
   "mimetype": "text/x-python",
   "name": "python",
   "nbconvert_exporter": "python",
   "pygments_lexer": "ipython3",
   "version": "3.7.1"
  }
 },
 "nbformat": 4,
 "nbformat_minor": 2
}
